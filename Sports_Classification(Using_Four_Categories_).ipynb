{
  "nbformat": 4,
  "nbformat_minor": 0,
  "metadata": {
    "accelerator": "TPU",
    "colab": {
      "name": "Sports_Classification(Using Four Categories )",
      "provenance": [],
      "collapsed_sections": [],
      "include_colab_link": true
    },
    "kernelspec": {
      "display_name": "Python 3",
      "name": "python3"
    }
  },
  "cells": [
    {
      "cell_type": "markdown",
      "metadata": {
        "id": "view-in-github",
        "colab_type": "text"
      },
      "source": [
        "<a href=\"https://colab.research.google.com/github/AdritaBarua/Sprorts-News-Sub-categorization/blob/main/Sports_Classification(Using_Four_Categories_).ipynb\" target=\"_parent\"><img src=\"https://colab.research.google.com/assets/colab-badge.svg\" alt=\"Open In Colab\"/></a>"
      ]
    },
    {
      "cell_type": "code",
      "metadata": {
        "colab": {
          "base_uri": "https://localhost:8080/"
        },
        "id": "9mIIsRvkYNrG",
        "outputId": "27c8d4c9-1009-4abb-ab6c-a7f76c465fe4"
      },
      "source": [
        "from google.colab import drive\n",
        "\n",
        "drive.mount('/content/gdrive')"
      ],
      "execution_count": null,
      "outputs": [
        {
          "output_type": "stream",
          "text": [
            "Drive already mounted at /content/gdrive; to attempt to forcibly remount, call drive.mount(\"/content/gdrive\", force_remount=True).\n"
          ],
          "name": "stdout"
        }
      ]
    },
    {
      "cell_type": "code",
      "metadata": {
        "id": "POzwSD1YYnBm"
      },
      "source": [
        "import pandas as pd\n",
        "df = pd.read_csv('/content/gdrive/My Drive/Sports_csv/sports3.csv') #dataset of cricket, football, athletics and tennis"
      ],
      "execution_count": null,
      "outputs": []
    },
    {
      "cell_type": "code",
      "metadata": {
        "colab": {
          "base_uri": "https://localhost:8080/"
        },
        "id": "ugYt4xDDulQV",
        "outputId": "6390d31b-5d9e-4573-d2ab-77d1a457efe0"
      },
      "source": [
        "len(df)"
      ],
      "execution_count": null,
      "outputs": [
        {
          "output_type": "execute_result",
          "data": {
            "text/plain": [
              "43306"
            ]
          },
          "metadata": {
            "tags": []
          },
          "execution_count": 6
        }
      ]
    },
    {
      "cell_type": "markdown",
      "metadata": {
        "id": "LSAaS3wH0FJB"
      },
      "source": [
        "# Data Cleaning\r\n"
      ]
    },
    {
      "cell_type": "code",
      "metadata": {
        "colab": {
          "base_uri": "https://localhost:8080/"
        },
        "id": "fMwoKyHcuxRr",
        "outputId": "85f84696-14b5-47b4-afaa-c1aeda8e525d"
      },
      "source": [
        "pip install BnPreprocessing"
      ],
      "execution_count": null,
      "outputs": [
        {
          "output_type": "stream",
          "text": [
            "Requirement already satisfied: BnPreprocessing in /usr/local/lib/python3.6/dist-packages (2.8)\n"
          ],
          "name": "stdout"
        }
      ]
    },
    {
      "cell_type": "code",
      "metadata": {
        "id": "SJ-ubgRdu9Nj"
      },
      "source": [
        "import BnPreprocessing as pp\n",
        "\n",
        "df['Text'] = df['desc'].apply(lambda x: pp.remove_noise(str(x)))"
      ],
      "execution_count": null,
      "outputs": []
    },
    {
      "cell_type": "code",
      "metadata": {
        "id": "PJqELZwfUJn4"
      },
      "source": [
        "sentences = df['Text'].values\n",
        "target = df['label'].values\n",
        "map_class = dict(zip(df.label.astype(\"category\").cat.codes,df.label))"
      ],
      "execution_count": null,
      "outputs": []
    },
    {
      "cell_type": "markdown",
      "metadata": {
        "id": "RcnO52l10RU5"
      },
      "source": [
        "# Feature Extraction using Tf-Idf and n-gram\r\n",
        "\r\n",
        "\r\n",
        "\r\n",
        "\r\n",
        "\r\n",
        "\r\n",
        "\r\n"
      ]
    },
    {
      "cell_type": "code",
      "metadata": {
        "id": "Pwg-pKexUMn4"
      },
      "source": [
        "from sklearn.feature_extraction.text import TfidfVectorizer"
      ],
      "execution_count": null,
      "outputs": []
    },
    {
      "cell_type": "code",
      "metadata": {
        "id": "YNkjHhVMUSUY"
      },
      "source": [
        "def tokenizer(text):\n",
        "    return text.split()"
      ],
      "execution_count": null,
      "outputs": []
    },
    {
      "cell_type": "code",
      "metadata": {
        "id": "T4Z33ZtsUUMg"
      },
      "source": [
        "uni_df = TfidfVectorizer(tokenizer = tokenizer, ngram_range=(1,1), max_df = 0.06, min_df = 0.0006)\n",
        "uni_bi_df = TfidfVectorizer(tokenizer = tokenizer, ngram_range=(1,2), max_df = 0.06, min_df = 0.0006)\n",
        "uni_bi_tri_df = TfidfVectorizer(tokenizer = tokenizer, ngram_range=(1,3), max_df = 0.06, min_df = 0.0006)\n",
        "bi_df = TfidfVectorizer(tokenizer = tokenizer, ngram_range=(2,2), max_df = 0.06, min_df = 0.0006)\n",
        "bi_tri_df = TfidfVectorizer(tokenizer = tokenizer, ngram_range=(2,3), max_df = 0.06, min_df = 0.0006)\n",
        "tri_df =TfidfVectorizer(tokenizer = tokenizer, ngram_range=(3,3), max_df = 0.06, min_df = 0.0006)\n",
        "\n",
        "\n",
        "X_uni = uni_df.fit_transform(sentences)\n",
        "X_uni_bi = uni_bi_df.fit_transform(sentences)\n",
        "X_uni_bi_tri = uni_bi_tri_df.fit_transform(sentences)\n",
        "X_bi = bi_df.fit_transform(sentences)\n",
        "X_bi_tri = bi_tri_df.fit_transform(sentences)\n",
        "X_tri = tri_df.fit_transform(sentences)"
      ],
      "execution_count": null,
      "outputs": []
    },
    {
      "cell_type": "code",
      "metadata": {
        "id": "PjdEDDcOjCvF"
      },
      "source": [
        "f1_dict = []"
      ],
      "execution_count": null,
      "outputs": []
    },
    {
      "cell_type": "code",
      "metadata": {
        "id": "ePK3ne_DUWTo"
      },
      "source": [
        "def get_scores(y_test, y_pred):\n",
        "        from sklearn.metrics import accuracy_score,f1_score, precision_score, recall_score,confusion_matrix\n",
        "          # accuracy: (tp + tn) / (p + n)\n",
        "        accuracy = accuracy_score(y_test, y_pred)\n",
        "          # f1: 2 tp / (2 tp + fp + fn)\n",
        "        f1 = f1_score(y_test, y_pred, average = None)\n",
        "          # precision:  tp / (tp + fp)\n",
        "        precision = precision_score(y_test, y_pred, average = None)\n",
        "          # recall:  tp / (tp + fn)\n",
        "        recall = recall_score(y_test, y_pred, average = None)\n",
        "        confusion_matrix = confusion_matrix(y_test, y_pred)\n",
        "        print('confusion_matrix:\\n {}'.format(confusion_matrix))\n",
        "        #print('precision: {}'.format(precision))\n",
        "        #print('recall: {}'.format(recall))\n",
        "        #print('fscore: {}'.format(f1))\n",
        "        #print('support: {}'.format(support))          \n",
        "        return 0"
      ],
      "execution_count": null,
      "outputs": []
    },
    {
      "cell_type": "code",
      "metadata": {
        "id": "klwUU7VmGoj-"
      },
      "source": [
        "def get_f1score(y_test, y_pred):\r\n",
        "      from sklearn.metrics import f1_score\r\n",
        "      f1score = {}\r\n",
        "      list = [\"Athletics\",\"Cricket\",\"Football\",\"Tennis\"]\r\n",
        "      f1 = f1_score(y_test, y_pred, average = None)\r\n",
        "      for i in range(0,4):\r\n",
        "        f1score[list[i]] = f1[i]\r\n",
        "      f1_dict.append(f1score)"
      ],
      "execution_count": null,
      "outputs": []
    },
    {
      "cell_type": "markdown",
      "metadata": {
        "id": "lai-bYVA1o4Z"
      },
      "source": [
        "# Classifier Models\r\n"
      ]
    },
    {
      "cell_type": "code",
      "metadata": {
        "colab": {
          "base_uri": "https://localhost:8080/"
        },
        "id": "YtctBbP1UZpo",
        "outputId": "ee1078a0-f60e-408b-895a-5fa58eafaada"
      },
      "source": [
        "pip install mlscorer"
      ],
      "execution_count": null,
      "outputs": [
        {
          "output_type": "stream",
          "text": [
            "Requirement already satisfied: mlscorer in /usr/local/lib/python3.6/dist-packages (0.3)\n",
            "Requirement already satisfied: prettytable in /usr/local/lib/python3.6/dist-packages (from mlscorer) (2.0.0)\n",
            "Requirement already satisfied: scikit-learn in /usr/local/lib/python3.6/dist-packages (from mlscorer) (0.22.2.post1)\n",
            "Requirement already satisfied: wcwidth in /usr/local/lib/python3.6/dist-packages (from prettytable->mlscorer) (0.2.5)\n",
            "Requirement already satisfied: setuptools in /usr/local/lib/python3.6/dist-packages (from prettytable->mlscorer) (51.1.1)\n",
            "Requirement already satisfied: joblib>=0.11 in /usr/local/lib/python3.6/dist-packages (from scikit-learn->mlscorer) (1.0.0)\n",
            "Requirement already satisfied: scipy>=0.17.0 in /usr/local/lib/python3.6/dist-packages (from scikit-learn->mlscorer) (1.4.1)\n",
            "Requirement already satisfied: numpy>=1.11.0 in /usr/local/lib/python3.6/dist-packages (from scikit-learn->mlscorer) (1.19.5)\n"
          ],
          "name": "stdout"
        }
      ]
    },
    {
      "cell_type": "code",
      "metadata": {
        "id": "jmZO-eoMUcfo"
      },
      "source": [
        "import mlscorer as ms"
      ],
      "execution_count": null,
      "outputs": []
    },
    {
      "cell_type": "code",
      "metadata": {
        "id": "smSNGN5SQIaD"
      },
      "source": [
        "from sklearn.svm import SVC\n",
        "from sklearn.linear_model import LogisticRegression\n",
        "from sklearn.tree import DecisionTreeClassifier\n",
        "from sklearn.naive_bayes import MultinomialNB\n",
        "from sklearn.ensemble import RandomForestClassifier\n",
        "from sklearn.neighbors import KNeighborsClassifier"
      ],
      "execution_count": null,
      "outputs": []
    },
    {
      "cell_type": "code",
      "metadata": {
        "id": "u7PmKTiq8dOl"
      },
      "source": [
        "def get_models(X_train, X_test, y_train, y_test):\n",
        "          classifier = SVC(kernel = 'linear', random_state = 0)\n",
        "          classifier.fit(X_train, y_train)\n",
        "          y_pred = classifier.predict(X_test)\n",
        "          print(\"Results for SVC model : \")\n",
        "          get_scores(y_test, y_pred)\n",
        "          ms.get_score_table(y_test, y_pred, map_class)\n",
        "          get_f1score(y_test, y_pred)\n",
        "          \n",
        "          classifier = LogisticRegression(solver='lbfgs',max_iter=1000)\n",
        "          classifier.fit(X_train, y_train)\n",
        "          y_pred = classifier.predict(X_test)\n",
        "          print(\"\\nResults for Logistic Regression model : \")\n",
        "          get_scores(y_test, y_pred)\n",
        "          ms.get_score_table(y_test, y_pred, map_class)\n",
        "          get_f1score(y_test, y_pred)\n",
        "\n",
        "          classifier = DecisionTreeClassifier()\n",
        "          classifier.fit(X_train, y_train)\n",
        "          y_pred = classifier.predict(X_test)\n",
        "          print(\"\\nResults for Decision Tree Classifier : \")\n",
        "          get_scores(y_test, y_pred)\n",
        "          ms.get_score_table(y_test, y_pred, map_class)\n",
        "          get_f1score(y_test, y_pred)\n",
        "\n",
        "          classifier = MultinomialNB()\n",
        "          classifier.fit(X_train, y_train)\n",
        "          y_pred = classifier.predict(X_test)\n",
        "          print(\"\\nResults for MultinomialNB model : \")\n",
        "          get_scores(y_test, y_pred)\n",
        "          ms.get_score_table(y_test, y_pred, map_class)\n",
        "          get_f1score(y_test, y_pred)\n",
        "\n",
        "          classifier = RandomForestClassifier()\n",
        "          classifier.fit(X_train, y_train)\n",
        "          y_pred = classifier.predict(X_test)\n",
        "          print(\"\\nResults for Random Forest Classifier : \")\n",
        "          get_scores(y_test, y_pred)\n",
        "          ms.get_score_table(y_test, y_pred, map_class)\n",
        "          get_f1score(y_test, y_pred)\n",
        "\n",
        "          classifier = KNeighborsClassifier()\n",
        "          classifier.fit(X_train, y_train)\n",
        "          y_pred = classifier.predict(X_test)\n",
        "          print(\"\\nResults for KNN model: \")\n",
        "          get_scores(y_test, y_pred)\n",
        "          ms.get_score_table(y_test, y_pred, map_class)\n",
        "          get_f1score(y_test, y_pred)"
      ],
      "execution_count": null,
      "outputs": []
    },
    {
      "cell_type": "code",
      "metadata": {
        "id": "vXX2-cH3JlXN"
      },
      "source": [
        "def show_result(f1_dict,name):\r\n",
        "          import pandas as pd\r\n",
        "\r\n",
        "          Models= pd.DataFrame(f1_dict, index = ['SVC', 'Logistic_Regression','Decision_Tree','MultinomialNB', 'Random_Forest', 'KNN'])\r\n",
        "          Models = Models.rename(columns = {\"Athletics\" : \"F1 Score of Athletics(%)\",\"Cricket\" : \"F1 Score of Cricket(%)\", \"Football\" : \"F1 Score of Football(%)\",\"Tennis\" : \"F1 Score of Tennis(%)\"})\r\n",
        "          Models.iloc[:,0] = Models.iloc[:,0]*100\r\n",
        "          Models.iloc[:,1] = Models.iloc[:,1]*100\r\n",
        "          Models.iloc[:,2] = Models.iloc[:,2]*100\r\n",
        "          Models.iloc[:,3] = Models.iloc[:,3]*100\r\n",
        "          print(\"F1 Scores uning \"+ name +\" Feature:\\n\")\r\n",
        "          display(Models) \r\n",
        "          \r\n",
        "          Athletics = Models.iloc[:,0]\r\n",
        "          Cricket = Models.iloc[:,1]\r\n",
        "          Football = Models.iloc[:,2]\r\n",
        "          Tennis = Models.iloc[:,3]\r\n",
        "          \r\n",
        "          import matplotlib.pyplot as plt\r\n",
        "          %matplotlib inline\r\n",
        "          import numpy as np\r\n",
        "\r\n",
        "          fig = plt.figure(figsize = (12, 8))\r\n",
        "          barwidth = 0.20\r\n",
        "\r\n",
        "          r1 = np.arange(len(Athletics))\r\n",
        "          #r2 = [x + barwidth for x in r1]\r\n",
        "          \r\n",
        "          plt.bar(r1-(barwidth+barwidth/2), Athletics, label=\"Athletics\", color = 'green', width = barwidth, edgecolor = 'white')\r\n",
        "          plt.bar(r1-barwidth/2, Tennis, label=\"Tennis\", color = 'purple', width = barwidth, edgecolor = 'white')\r\n",
        "          plt.bar(r1+barwidth/2, Cricket, label=\"Cricket\", color = 'blue', width = barwidth, edgecolor = 'white')\r\n",
        "          plt.bar(r1+(barwidth+barwidth/2), Football, label=\"Football\", color = 'yellow', width = barwidth, edgecolor = 'white')\r\n",
        "          \r\n",
        "          plt.ylabel('F1_Score(%)')\r\n",
        "          plt.xticks([r for r in range(len(Athletics))], ['SVC', 'Logistic_Regression','Decision_Tree','MultinomialNB', 'Random_Forest', 'KNN'])\r\n",
        "          plt.title(\"F1 Scores using \"+ name + \" Feature\")\r\n",
        "          plt.legend()\r\n",
        "          plt.show()\r\n",
        "\r\n",
        "          f1_dict.clear()\r\n"
      ],
      "execution_count": null,
      "outputs": []
    },
    {
      "cell_type": "markdown",
      "metadata": {
        "id": "hcjWhtnmg9G8"
      },
      "source": [
        "# Models using Unigram"
      ]
    },
    {
      "cell_type": "code",
      "metadata": {
        "cellView": "code",
        "colab": {
          "base_uri": "https://localhost:8080/"
        },
        "id": "gmqnUZkIUfew",
        "outputId": "b58d6486-6827-49f5-97fb-ec595d6e42f9"
      },
      "source": [
        "from sklearn.model_selection import train_test_split\n",
        "X_train, X_test, y_train, y_test = train_test_split(X_uni, target, test_size=0.20, random_state=1000)\n",
        "\n",
        "get_models(X_train, X_test, y_train, y_test)"
      ],
      "execution_count": null,
      "outputs": [
        {
          "output_type": "stream",
          "text": [
            "Results for SVC model : \n",
            "confusion_matrix:\n",
            " [[ 117   13   10    1]\n",
            " [   6 5965   68    5]\n",
            " [   6  121 2155    6]\n",
            " [   0   17    4  168]]\n",
            "Accuracy: 0.9703301777880398\n",
            "+-----------+--------------------+--------------------+--------------------+\n",
            "|   class   |         f1         |     precision      |       recall       |\n",
            "+-----------+--------------------+--------------------+--------------------+\n",
            "| athletics | 0.8666666666666666 | 0.9069767441860465 | 0.8297872340425532 |\n",
            "|  cricket  | 0.9810855263157895 | 0.9753106605624591 | 0.9869291859695566 |\n",
            "|  football | 0.9524861878453039 | 0.9633437639696022 | 0.9418706293706294 |\n",
            "|   tennis  | 0.9105691056910569 | 0.9333333333333333 | 0.8888888888888888 |\n",
            "+-----------+--------------------+--------------------+--------------------+\n",
            "\n",
            "Results for Logistic Regression model : \n",
            "confusion_matrix:\n",
            " [[ 102   28   10    1]\n",
            " [   4 5977   58    5]\n",
            " [   4  135 2144    5]\n",
            " [   0   20    8  161]]\n",
            "Accuracy: 0.9679057954283076\n",
            "+-----------+--------------------+--------------------+--------------------+\n",
            "|   class   |         f1         |     precision      |       recall       |\n",
            "+-----------+--------------------+--------------------+--------------------+\n",
            "| athletics | 0.8127490039840639 | 0.9272727272727272 | 0.723404255319149  |\n",
            "|  cricket  | 0.9795149131432318 | 0.9702922077922078 | 0.9889146260754468 |\n",
            "|  football | 0.9511978704525289 | 0.9657657657657658 | 0.9370629370629371 |\n",
            "|   tennis  | 0.8919667590027701 | 0.936046511627907  | 0.8518518518518519 |\n",
            "+-----------+--------------------+--------------------+--------------------+\n",
            "\n",
            "Results for Decision Tree Classifier : \n",
            "confusion_matrix:\n",
            " [[  98   20   22    1]\n",
            " [  28 5830  166   20]\n",
            " [  14  175 2092    7]\n",
            " [   1   18   11  159]]\n",
            "Accuracy: 0.9442392057261603\n",
            "+-----------+--------------------+--------------------+--------------------+\n",
            "|   class   |         f1         |     precision      |       recall       |\n",
            "+-----------+--------------------+--------------------+--------------------+\n",
            "| athletics | 0.6950354609929078 | 0.6950354609929078 | 0.6950354609929078 |\n",
            "|  cricket  | 0.9646727889468023 | 0.9647526063213636 | 0.9645929847782925 |\n",
            "|  football | 0.913736623716969  | 0.9131383675250982 | 0.9143356643356644 |\n",
            "|   tennis  | 0.8457446808510638 | 0.8502673796791443 | 0.8412698412698413 |\n",
            "+-----------+--------------------+--------------------+--------------------+\n",
            "\n",
            "Results for MultinomialNB model : \n",
            "confusion_matrix:\n",
            " [[ 109   15   17    0]\n",
            " [   6 5958   77    3]\n",
            " [   5   93 2188    2]\n",
            " [   0   17    7  165]]\n",
            "Accuracy: 0.9720618794735627\n",
            "+-----------+--------------------+--------------------+--------------------+\n",
            "|   class   |         f1         |     precision      |       recall       |\n",
            "+-----------+--------------------+--------------------+--------------------+\n",
            "| athletics | 0.8352490421455939 | 0.9083333333333333 | 0.7730496453900709 |\n",
            "|  cricket  | 0.9826008081141255 | 0.9794509288180174 | 0.985771012574454  |\n",
            "|  football | 0.9560847716845096 | 0.9558759283529926 | 0.9562937062937062 |\n",
            "|   tennis  | 0.9192200557103063 | 0.9705882352941176 | 0.873015873015873  |\n",
            "+-----------+--------------------+--------------------+--------------------+\n",
            "\n",
            "Results for Random Forest Classifier : \n",
            "confusion_matrix:\n",
            " [[ 114   13   13    1]\n",
            " [   7 5916  109   12]\n",
            " [   8  104 2172    4]\n",
            " [   0   13    6  170]]\n",
            "Accuracy: 0.9665204340798892\n",
            "+-----------+--------------------+--------------------+--------------------+\n",
            "|   class   |         f1         |     precision      |       recall       |\n",
            "+-----------+--------------------+--------------------+--------------------+\n",
            "| athletics | 0.8444444444444444 | 0.8837209302325582 | 0.8085106382978723 |\n",
            "|  cricket  | 0.9786600496277915 | 0.9784981806152828 | 0.9788219722038385 |\n",
            "|  football | 0.946817785527463  | 0.9443478260869566 | 0.9493006993006993 |\n",
            "|   tennis  | 0.9042553191489361 | 0.9090909090909091 | 0.8994708994708994 |\n",
            "+-----------+--------------------+--------------------+--------------------+\n",
            "\n",
            "Results for KNN model: \n",
            "confusion_matrix:\n",
            " [[  16  120    5    0]\n",
            " [   1 5668  374    1]\n",
            " [   1 1951  336    0]\n",
            " [   0  165    8   16]]\n",
            "Accuracy: 0.6968367582544447\n",
            "+-----------+---------------------+---------------------+---------------------+\n",
            "|   class   |          f1         |      precision      |        recall       |\n",
            "+-----------+---------------------+---------------------+---------------------+\n",
            "| athletics | 0.20125786163522014 |  0.8888888888888888 | 0.11347517730496454 |\n",
            "|  cricket  |  0.8127330083166043 |  0.7171052631578947 |  0.9377895433487756 |\n",
            "|  football | 0.22318166722019261 | 0.46473029045643155 | 0.14685314685314685 |\n",
            "|   tennis  |  0.1553398058252427 |  0.9411764705882353 | 0.08465608465608465 |\n",
            "+-----------+---------------------+---------------------+---------------------+\n"
          ],
          "name": "stdout"
        }
      ]
    },
    {
      "cell_type": "markdown",
      "metadata": {
        "id": "K2Iul4P6i97b"
      },
      "source": [
        ""
      ]
    },
    {
      "cell_type": "code",
      "metadata": {
        "colab": {
          "base_uri": "https://localhost:8080/",
          "height": 752
        },
        "id": "GS-5afumZxuw",
        "outputId": "8383ec45-a906-4287-c553-96b800856d8d"
      },
      "source": [
        "name = \"Unigram\"\r\n",
        "show_result(f1_dict,name)"
      ],
      "execution_count": null,
      "outputs": [
        {
          "output_type": "stream",
          "text": [
            "F1 Scores uning Unigram Feature:\n",
            "\n"
          ],
          "name": "stdout"
        },
        {
          "output_type": "display_data",
          "data": {
            "text/html": [
              "<div>\n",
              "<style scoped>\n",
              "    .dataframe tbody tr th:only-of-type {\n",
              "        vertical-align: middle;\n",
              "    }\n",
              "\n",
              "    .dataframe tbody tr th {\n",
              "        vertical-align: top;\n",
              "    }\n",
              "\n",
              "    .dataframe thead th {\n",
              "        text-align: right;\n",
              "    }\n",
              "</style>\n",
              "<table border=\"1\" class=\"dataframe\">\n",
              "  <thead>\n",
              "    <tr style=\"text-align: right;\">\n",
              "      <th></th>\n",
              "      <th>F1 Score of Athletics(%)</th>\n",
              "      <th>F1 Score of Cricket(%)</th>\n",
              "      <th>F1 Score of Football(%)</th>\n",
              "      <th>F1 Score of Tennis(%)</th>\n",
              "    </tr>\n",
              "  </thead>\n",
              "  <tbody>\n",
              "    <tr>\n",
              "      <th>SVC</th>\n",
              "      <td>86.666667</td>\n",
              "      <td>98.108553</td>\n",
              "      <td>95.248619</td>\n",
              "      <td>91.056911</td>\n",
              "    </tr>\n",
              "    <tr>\n",
              "      <th>Logistic_Regression</th>\n",
              "      <td>81.274900</td>\n",
              "      <td>97.951491</td>\n",
              "      <td>95.119787</td>\n",
              "      <td>89.196676</td>\n",
              "    </tr>\n",
              "    <tr>\n",
              "      <th>Decision_Tree</th>\n",
              "      <td>69.503546</td>\n",
              "      <td>96.467279</td>\n",
              "      <td>91.373662</td>\n",
              "      <td>84.574468</td>\n",
              "    </tr>\n",
              "    <tr>\n",
              "      <th>MultinomialNB</th>\n",
              "      <td>83.524904</td>\n",
              "      <td>98.260081</td>\n",
              "      <td>95.608477</td>\n",
              "      <td>91.922006</td>\n",
              "    </tr>\n",
              "    <tr>\n",
              "      <th>Random_Forest</th>\n",
              "      <td>84.444444</td>\n",
              "      <td>97.866005</td>\n",
              "      <td>94.681779</td>\n",
              "      <td>90.425532</td>\n",
              "    </tr>\n",
              "    <tr>\n",
              "      <th>KNN</th>\n",
              "      <td>20.125786</td>\n",
              "      <td>81.273301</td>\n",
              "      <td>22.318167</td>\n",
              "      <td>15.533981</td>\n",
              "    </tr>\n",
              "  </tbody>\n",
              "</table>\n",
              "</div>"
            ],
            "text/plain": [
              "                     F1 Score of Athletics(%)  ...  F1 Score of Tennis(%)\n",
              "SVC                                 86.666667  ...              91.056911\n",
              "Logistic_Regression                 81.274900  ...              89.196676\n",
              "Decision_Tree                       69.503546  ...              84.574468\n",
              "MultinomialNB                       83.524904  ...              91.922006\n",
              "Random_Forest                       84.444444  ...              90.425532\n",
              "KNN                                 20.125786  ...              15.533981\n",
              "\n",
              "[6 rows x 4 columns]"
            ]
          },
          "metadata": {
            "tags": []
          }
        },
        {
          "output_type": "display_data",
          "data": {
            "image/png": "[encoded data removed]",
            "text/plain": [
              "<Figure size 864x576 with 1 Axes>"
            ]
          },
          "metadata": {
            "tags": [],
            "needs_background": "light"
          }
        }
      ]
    },
    {
      "cell_type": "markdown",
      "metadata": {
        "id": "C_O9SMRFT69U"
      },
      "source": [
        "# Models using Unigram and Bigram"
      ]
    },
    {
      "cell_type": "code",
      "metadata": {
        "colab": {
          "base_uri": "https://localhost:8080/"
        },
        "id": "AQ9AC76SU2UA",
        "outputId": "2b3d4eb8-c00c-4765-937c-e83d3be7cfa2"
      },
      "source": [
        "from sklearn.model_selection import train_test_split\n",
        "X_train, X_test, y_train, y_test = train_test_split(X_uni_bi, target, test_size=0.20, random_state=1000)\n",
        "\n",
        "get_models(X_train, X_test, y_train, y_test)"
      ],
      "execution_count": null,
      "outputs": [
        {
          "output_type": "stream",
          "text": [
            "Results for SVC model : \n",
            "confusion_matrix:\n",
            " [[ 120   11    9    1]\n",
            " [   5 5969   66    4]\n",
            " [   6  108 2169    5]\n",
            " [   0   16    5  168]]\n",
            "Accuracy: 0.9727545601477718\n",
            "+-----------+--------------------+--------------------+--------------------+\n",
            "|   class   |         f1         |     precision      |       recall       |\n",
            "+-----------+--------------------+--------------------+--------------------+\n",
            "| athletics | 0.8823529411764706 | 0.916030534351145  | 0.851063829787234  |\n",
            "|  cricket  | 0.9827132038195587 | 0.9778833551769331 | 0.9875909993381866 |\n",
            "|  football | 0.9561384174564691 | 0.9644286349488662 | 0.9479895104895105 |\n",
            "|   tennis  | 0.9155313351498636 | 0.9438202247191011 | 0.8888888888888888 |\n",
            "+-----------+--------------------+--------------------+--------------------+\n",
            "\n",
            "Results for Logistic Regression model : \n",
            "confusion_matrix:\n",
            " [[ 102   28   10    1]\n",
            " [   3 5978   59    4]\n",
            " [   5  128 2151    4]\n",
            " [   0   20    9  160]]\n",
            "Accuracy: 0.9687139228815516\n",
            "+-----------+--------------------+--------------------+--------------------+\n",
            "|   class   |         f1         |     precision      |       recall       |\n",
            "+-----------+--------------------+--------------------+--------------------+\n",
            "| athletics | 0.8127490039840639 | 0.9272727272727272 | 0.723404255319149  |\n",
            "|  cricket  | 0.9801606820790294 | 0.9714007149821254 | 0.9890800794176042 |\n",
            "|  football | 0.9524020367500553 | 0.9650067294751009 | 0.9401223776223776 |\n",
            "|   tennis  | 0.8938547486033519 | 0.9467455621301775 | 0.8465608465608465 |\n",
            "+-----------+--------------------+--------------------+--------------------+\n",
            "\n",
            "Results for Decision Tree Classifier : \n",
            "confusion_matrix:\n",
            " [[ 108   24    8    1]\n",
            " [  24 5845  150   25]\n",
            " [  10  144 2125    9]\n",
            " [   0   18    6  165]]\n",
            "Accuracy: 0.9516277995843916\n",
            "+-----------+--------------------+--------------------+--------------------+\n",
            "|   class   |         f1         |     precision      |       recall       |\n",
            "+-----------+--------------------+--------------------+--------------------+\n",
            "| athletics | 0.7632508833922261 | 0.7605633802816901 | 0.7659574468085106 |\n",
            "|  cricket  | 0.9681159420289855 | 0.9691593433924722 | 0.9670747849106552 |\n",
            "|  football | 0.928555822591217  | 0.928352992573176  | 0.9287587412587412 |\n",
            "|   tennis  | 0.8483290488431877 |       0.825        | 0.873015873015873  |\n",
            "+-----------+--------------------+--------------------+--------------------+\n",
            "\n",
            "Results for MultinomialNB model : \n",
            "confusion_matrix:\n",
            " [[  93   15   33    0]\n",
            " [   1 5959   81    3]\n",
            " [   4   73 2209    2]\n",
            " [   0   21   15  153]]\n",
            "Accuracy: 0.9713691987993535\n",
            "+-----------+--------------------+--------------------+--------------------+\n",
            "|   class   |         f1         |     precision      |       recall       |\n",
            "+-----------+--------------------+--------------------+--------------------+\n",
            "| athletics | 0.7782426778242677 | 0.9489795918367347 | 0.6595744680851063 |\n",
            "|  cricket  | 0.9839828269484808 | 0.9820369149637442 | 0.9859364659166115 |\n",
            "|  football | 0.9550367488110679 | 0.9448246364414029 | 0.965472027972028  |\n",
            "|   tennis  | 0.8818443804034583 | 0.9683544303797469 | 0.8095238095238095 |\n",
            "+-----------+--------------------+--------------------+--------------------+\n",
            "\n",
            "Results for Random Forest Classifier : \n",
            "confusion_matrix:\n",
            " [[ 118   12   10    1]\n",
            " [   7 5919  105   13]\n",
            " [   9   99 2176    4]\n",
            " [   0   10    6  173]]\n",
            "Accuracy: 0.9681366889863773\n",
            "+-----------+--------------------+--------------------+--------------------+\n",
            "|   class   |         f1         |     precision      |       recall       |\n",
            "+-----------+--------------------+--------------------+--------------------+\n",
            "| athletics | 0.8581818181818182 | 0.8805970149253731 | 0.8368794326241135 |\n",
            "|  cricket  | 0.9796425024826216 | 0.9799668874172185 | 0.9793183322303111 |\n",
            "|  football | 0.9491821155943292 | 0.9473225946887244 | 0.951048951048951  |\n",
            "|   tennis  | 0.9105263157894737 | 0.9057591623036649 | 0.9153439153439153 |\n",
            "+-----------+--------------------+--------------------+--------------------+\n",
            "\n",
            "Results for KNN model: \n",
            "confusion_matrix:\n",
            " [[  14  120    7    0]\n",
            " [   0 5676  368    0]\n",
            " [   0 2025  263    0]\n",
            " [   0  168   14    7]]\n",
            "Accuracy: 0.688062803047795\n",
            "+-----------+---------------------+---------------------+----------------------+\n",
            "|   class   |          f1         |      precision      |        recall        |\n",
            "+-----------+---------------------+---------------------+----------------------+\n",
            "| athletics |  0.1806451612903226 |         1.0         | 0.09929078014184398  |\n",
            "|  cricket  |  0.8089503313617901 |  0.7104769057453999 |  0.9391131700860358  |\n",
            "|  football |  0.1789115646258503 | 0.40337423312883436 | 0.11494755244755245  |\n",
            "|   tennis  | 0.07142857142857142 |         1.0         | 0.037037037037037035 |\n",
            "+-----------+---------------------+---------------------+----------------------+\n"
          ],
          "name": "stdout"
        }
      ]
    },
    {
      "cell_type": "code",
      "metadata": {
        "colab": {
          "base_uri": "https://localhost:8080/",
          "height": 752
        },
        "id": "SQtvF3yDZqDQ",
        "outputId": "23801677-2de5-4d1a-e8d4-eff2416814be"
      },
      "source": [
        "name = \"Unigram-Bigram\"\r\n",
        "show_result(f1_dict,name)"
      ],
      "execution_count": null,
      "outputs": [
        {
          "output_type": "stream",
          "text": [
            "F1 Scores uning Unigram-Bigram Feature:\n",
            "\n"
          ],
          "name": "stdout"
        },
        {
          "output_type": "display_data",
          "data": {
            "text/html": [
              "<div>\n",
              "<style scoped>\n",
              "    .dataframe tbody tr th:only-of-type {\n",
              "        vertical-align: middle;\n",
              "    }\n",
              "\n",
              "    .dataframe tbody tr th {\n",
              "        vertical-align: top;\n",
              "    }\n",
              "\n",
              "    .dataframe thead th {\n",
              "        text-align: right;\n",
              "    }\n",
              "</style>\n",
              "<table border=\"1\" class=\"dataframe\">\n",
              "  <thead>\n",
              "    <tr style=\"text-align: right;\">\n",
              "      <th></th>\n",
              "      <th>F1 Score of Athletics(%)</th>\n",
              "      <th>F1 Score of Cricket(%)</th>\n",
              "      <th>F1 Score of Football(%)</th>\n",
              "      <th>F1 Score of Tennis(%)</th>\n",
              "    </tr>\n",
              "  </thead>\n",
              "  <tbody>\n",
              "    <tr>\n",
              "      <th>SVC</th>\n",
              "      <td>88.235294</td>\n",
              "      <td>98.271320</td>\n",
              "      <td>95.613842</td>\n",
              "      <td>91.553134</td>\n",
              "    </tr>\n",
              "    <tr>\n",
              "      <th>Logistic_Regression</th>\n",
              "      <td>81.274900</td>\n",
              "      <td>98.016068</td>\n",
              "      <td>95.240204</td>\n",
              "      <td>89.385475</td>\n",
              "    </tr>\n",
              "    <tr>\n",
              "      <th>Decision_Tree</th>\n",
              "      <td>76.325088</td>\n",
              "      <td>96.811594</td>\n",
              "      <td>92.855582</td>\n",
              "      <td>84.832905</td>\n",
              "    </tr>\n",
              "    <tr>\n",
              "      <th>MultinomialNB</th>\n",
              "      <td>77.824268</td>\n",
              "      <td>98.398283</td>\n",
              "      <td>95.503675</td>\n",
              "      <td>88.184438</td>\n",
              "    </tr>\n",
              "    <tr>\n",
              "      <th>Random_Forest</th>\n",
              "      <td>85.818182</td>\n",
              "      <td>97.964250</td>\n",
              "      <td>94.918212</td>\n",
              "      <td>91.052632</td>\n",
              "    </tr>\n",
              "    <tr>\n",
              "      <th>KNN</th>\n",
              "      <td>18.064516</td>\n",
              "      <td>80.895033</td>\n",
              "      <td>17.891156</td>\n",
              "      <td>7.142857</td>\n",
              "    </tr>\n",
              "  </tbody>\n",
              "</table>\n",
              "</div>"
            ],
            "text/plain": [
              "                     F1 Score of Athletics(%)  ...  F1 Score of Tennis(%)\n",
              "SVC                                 88.235294  ...              91.553134\n",
              "Logistic_Regression                 81.274900  ...              89.385475\n",
              "Decision_Tree                       76.325088  ...              84.832905\n",
              "MultinomialNB                       77.824268  ...              88.184438\n",
              "Random_Forest                       85.818182  ...              91.052632\n",
              "KNN                                 18.064516  ...               7.142857\n",
              "\n",
              "[6 rows x 4 columns]"
            ]
          },
          "metadata": {
            "tags": []
          }
        },
        {
          "output_type": "display_data",
          "data": {
            "image/png": "[encoded data removed]",
            "text/plain": [
              "<Figure size 864x576 with 1 Axes>"
            ]
          },
          "metadata": {
            "tags": [],
            "needs_background": "light"
          }
        }
      ]
    },
    {
      "cell_type": "markdown",
      "metadata": {
        "id": "ztdVSIle5NWV"
      },
      "source": [
        "# Models using Unigram, Bigram & Trigram"
      ]
    },
    {
      "cell_type": "code",
      "metadata": {
        "colab": {
          "base_uri": "https://localhost:8080/"
        },
        "id": "HeEc5hFE5fIU",
        "outputId": "105e6604-4018-4ca6-ba5a-95878aa914c1"
      },
      "source": [
        "from sklearn.model_selection import train_test_split\n",
        "X_train, X_test, y_train, y_test = train_test_split(X_uni_bi_tri, target, test_size=0.20, random_state=1000)\n",
        "\n",
        "get_models(X_train, X_test, y_train, y_test)"
      ],
      "execution_count": null,
      "outputs": [
        {
          "output_type": "stream",
          "text": [
            "Results for SVC model : \n",
            "confusion_matrix:\n",
            " [[ 120   12    8    1]\n",
            " [   5 5973   63    3]\n",
            " [   6  108 2169    5]\n",
            " [   0   16    5  168]]\n",
            "Accuracy: 0.9732163472639114\n",
            "+-----------+--------------------+--------------------+--------------------+\n",
            "|   class   |         f1         |     precision      |       recall       |\n",
            "+-----------+--------------------+--------------------+--------------------+\n",
            "| athletics | 0.8823529411764706 | 0.916030534351145  | 0.851063829787234  |\n",
            "|  cricket  | 0.9829671686003456 | 0.9777377639548207 | 0.9882528127068166 |\n",
            "|  football | 0.9569821310390471 | 0.9661469933184855 | 0.9479895104895105 |\n",
            "|   tennis  | 0.9180327868852458 | 0.9491525423728814 | 0.8888888888888888 |\n",
            "+-----------+--------------------+--------------------+--------------------+\n",
            "\n",
            "Results for Logistic Regression model : \n",
            "confusion_matrix:\n",
            " [[ 101   28   11    1]\n",
            " [   3 5979   58    4]\n",
            " [   5  127 2152    4]\n",
            " [   0   19    9  161]]\n",
            "Accuracy: 0.9689448164396214\n",
            "+-----------+--------------------+--------------------+--------------------+\n",
            "|   class   |         f1         |     precision      |       recall       |\n",
            "+-----------+--------------------+--------------------+--------------------+\n",
            "| athletics |       0.808        | 0.926605504587156  | 0.7163120567375887 |\n",
            "|  cricket  | 0.9804050176272854 | 0.9717211116528522 | 0.9892455327597618 |\n",
            "|  football | 0.9526339088092075 | 0.9650224215246637 | 0.9405594405594405 |\n",
            "|   tennis  | 0.8969359331476323 | 0.9470588235294117 | 0.8518518518518519 |\n",
            "+-----------+--------------------+--------------------+--------------------+\n",
            "\n",
            "Results for Decision Tree Classifier : \n",
            "confusion_matrix:\n",
            " [[ 111   19    9    2]\n",
            " [  22 5855  146   21]\n",
            " [  17  160 2101   10]\n",
            " [   2   18    6  163]]\n",
            "Accuracy: 0.9501269914569384\n",
            "+-----------+--------------------+--------------------+--------------------+\n",
            "|   class   |         f1         |     precision      |       recall       |\n",
            "+-----------+--------------------+--------------------+--------------------+\n",
            "| athletics | 0.7576791808873721 | 0.7302631578947368 | 0.7872340425531915 |\n",
            "|  cricket  | 0.9680886243386243 | 0.9674487772637145 | 0.9687293183322303 |\n",
            "|  football | 0.9235164835164835 | 0.9288240495137047 | 0.9182692307692307 |\n",
            "|   tennis  | 0.8467532467532467 | 0.8316326530612245 | 0.8624338624338624 |\n",
            "+-----------+--------------------+--------------------+--------------------+\n",
            "\n",
            "Results for MultinomialNB model : \n",
            "confusion_matrix:\n",
            " [[  90   14   37    0]\n",
            " [   1 5953   87    3]\n",
            " [   4   67 2215    2]\n",
            " [   0   21   17  151]]\n",
            "Accuracy: 0.9707919649041792\n",
            "+-----------+--------------------+--------------------+--------------------+\n",
            "|   class   |         f1         |     precision      |       recall       |\n",
            "+-----------+--------------------+--------------------+--------------------+\n",
            "| athletics | 0.7627118644067796 | 0.9473684210526315 | 0.6382978723404256 |\n",
            "|  cricket  | 0.9840482684519382 | 0.9831544178364987 | 0.9849437458636664 |\n",
            "|  football | 0.9539190353143842 | 0.9401528013582343 | 0.9680944055944056 |\n",
            "|   tennis  | 0.8753623188405797 | 0.967948717948718  | 0.798941798941799  |\n",
            "+-----------+--------------------+--------------------+--------------------+\n",
            "\n",
            "Results for Random Forest Classifier : \n",
            "confusion_matrix:\n",
            " [[ 119   12    9    1]\n",
            " [  12 5917  102   13]\n",
            " [   8  103 2172    5]\n",
            " [   0   10    7  172]]\n",
            "Accuracy: 0.967444008312168\n",
            "+-----------+--------------------+--------------------+--------------------+\n",
            "|   class   |         f1         |     precision      |       recall       |\n",
            "+-----------+--------------------+--------------------+--------------------+\n",
            "| athletics |        0.85        | 0.8561151079136691 | 0.8439716312056738 |\n",
            "|  cricket  | 0.9791494290915109 | 0.9793114862628268 | 0.978987425545996  |\n",
            "|  football | 0.9488859764089121 | 0.948471615720524  | 0.9493006993006993 |\n",
            "|   tennis  | 0.9052631578947368 | 0.900523560209424  |  0.91005291005291  |\n",
            "+-----------+--------------------+--------------------+--------------------+\n",
            "\n",
            "Results for KNN model: \n",
            "confusion_matrix:\n",
            " [[  14  122    5    0]\n",
            " [   0 5661  383    0]\n",
            " [   0 1997  291    0]\n",
            " [   0  171   11    7]]\n",
            "Accuracy: 0.6895636111752482\n",
            "+-----------+---------------------+--------------------+----------------------+\n",
            "|   class   |          f1         |     precision      |        recall        |\n",
            "+-----------+---------------------+--------------------+----------------------+\n",
            "| athletics |  0.1806451612903226 |        1.0         | 0.09929078014184398  |\n",
            "|  cricket  |  0.8090032154340837 | 0.7119859137215444 |  0.936631369953673   |\n",
            "|  football | 0.19543317662860982 | 0.4217391304347826 |  0.1271853146853147  |\n",
            "|   tennis  | 0.07142857142857142 |        1.0         | 0.037037037037037035 |\n",
            "+-----------+---------------------+--------------------+----------------------+\n"
          ],
          "name": "stdout"
        }
      ]
    },
    {
      "cell_type": "code",
      "metadata": {
        "colab": {
          "base_uri": "https://localhost:8080/",
          "height": 752
        },
        "id": "Ir6wROHJZf6h",
        "outputId": "4754152d-49eb-4103-e6c5-7d63900dd6dc"
      },
      "source": [
        "name = \"Unigram-Bigram-Trigram\"\r\n",
        "show_result(f1_dict,name)"
      ],
      "execution_count": null,
      "outputs": [
        {
          "output_type": "stream",
          "text": [
            "F1 Scores uning Unigram-Bigram-Trigram Feature:\n",
            "\n"
          ],
          "name": "stdout"
        },
        {
          "output_type": "display_data",
          "data": {
            "text/html": [
              "<div>\n",
              "<style scoped>\n",
              "    .dataframe tbody tr th:only-of-type {\n",
              "        vertical-align: middle;\n",
              "    }\n",
              "\n",
              "    .dataframe tbody tr th {\n",
              "        vertical-align: top;\n",
              "    }\n",
              "\n",
              "    .dataframe thead th {\n",
              "        text-align: right;\n",
              "    }\n",
              "</style>\n",
              "<table border=\"1\" class=\"dataframe\">\n",
              "  <thead>\n",
              "    <tr style=\"text-align: right;\">\n",
              "      <th></th>\n",
              "      <th>F1 Score of Athletics(%)</th>\n",
              "      <th>F1 Score of Cricket(%)</th>\n",
              "      <th>F1 Score of Football(%)</th>\n",
              "      <th>F1 Score of Tennis(%)</th>\n",
              "    </tr>\n",
              "  </thead>\n",
              "  <tbody>\n",
              "    <tr>\n",
              "      <th>SVC</th>\n",
              "      <td>88.235294</td>\n",
              "      <td>98.296717</td>\n",
              "      <td>95.698213</td>\n",
              "      <td>91.803279</td>\n",
              "    </tr>\n",
              "    <tr>\n",
              "      <th>Logistic_Regression</th>\n",
              "      <td>80.800000</td>\n",
              "      <td>98.040502</td>\n",
              "      <td>95.263391</td>\n",
              "      <td>89.693593</td>\n",
              "    </tr>\n",
              "    <tr>\n",
              "      <th>Decision_Tree</th>\n",
              "      <td>75.767918</td>\n",
              "      <td>96.808862</td>\n",
              "      <td>92.351648</td>\n",
              "      <td>84.675325</td>\n",
              "    </tr>\n",
              "    <tr>\n",
              "      <th>MultinomialNB</th>\n",
              "      <td>76.271186</td>\n",
              "      <td>98.404827</td>\n",
              "      <td>95.391904</td>\n",
              "      <td>87.536232</td>\n",
              "    </tr>\n",
              "    <tr>\n",
              "      <th>Random_Forest</th>\n",
              "      <td>85.000000</td>\n",
              "      <td>97.914943</td>\n",
              "      <td>94.888598</td>\n",
              "      <td>90.526316</td>\n",
              "    </tr>\n",
              "    <tr>\n",
              "      <th>KNN</th>\n",
              "      <td>18.064516</td>\n",
              "      <td>80.900322</td>\n",
              "      <td>19.543318</td>\n",
              "      <td>7.142857</td>\n",
              "    </tr>\n",
              "  </tbody>\n",
              "</table>\n",
              "</div>"
            ],
            "text/plain": [
              "                     F1 Score of Athletics(%)  ...  F1 Score of Tennis(%)\n",
              "SVC                                 88.235294  ...              91.803279\n",
              "Logistic_Regression                 80.800000  ...              89.693593\n",
              "Decision_Tree                       75.767918  ...              84.675325\n",
              "MultinomialNB                       76.271186  ...              87.536232\n",
              "Random_Forest                       85.000000  ...              90.526316\n",
              "KNN                                 18.064516  ...               7.142857\n",
              "\n",
              "[6 rows x 4 columns]"
            ]
          },
          "metadata": {
            "tags": []
          }
        },
        {
          "output_type": "display_data",
          "data": {
            "image/png": "[encoded data removed]",
            "text/plain": [
              "<Figure size 864x576 with 1 Axes>"
            ]
          },
          "metadata": {
            "tags": [],
            "needs_background": "light"
          }
        }
      ]
    },
    {
      "cell_type": "markdown",
      "metadata": {
        "id": "Zc1T0SzB5uZl"
      },
      "source": [
        "# Models using Bigram"
      ]
    },
    {
      "cell_type": "code",
      "metadata": {
        "id": "IlW2YvOz55P0",
        "colab": {
          "base_uri": "https://localhost:8080/"
        },
        "outputId": "468ac37e-925b-48f8-d43c-4abd76ce797a"
      },
      "source": [
        "from sklearn.model_selection import train_test_split\n",
        "X_train, X_test, y_train, y_test = train_test_split(X_bi, target, test_size=0.20, random_state=1000)\n",
        "\n",
        "get_models(X_train, X_test, y_train, y_test)"
      ],
      "execution_count": null,
      "outputs": [
        {
          "output_type": "stream",
          "text": [
            "Results for SVC model : \n",
            "confusion_matrix:\n",
            " [[  94   31   15    1]\n",
            " [   3 5963   72    6]\n",
            " [   8  143 2132    5]\n",
            " [   2   21    7  159]]\n",
            "Accuracy: 0.9637497113830524\n",
            "+-----------+--------------------+--------------------+--------------------+\n",
            "|   class   |         f1         |     precision      |       recall       |\n",
            "+-----------+--------------------+--------------------+--------------------+\n",
            "| athletics | 0.7580645161290323 | 0.8785046728971962 | 0.6666666666666666 |\n",
            "|  cricket  | 0.9773807572529094 | 0.9683338746346216 | 0.9865982792852416 |\n",
            "|  football | 0.9446167478954365 | 0.9577717879604672 | 0.9318181818181818 |\n",
            "|   tennis  | 0.8833333333333334 | 0.9298245614035088 | 0.8412698412698413 |\n",
            "+-----------+--------------------+--------------------+--------------------+\n",
            "\n",
            "Results for Logistic Regression model : \n",
            "confusion_matrix:\n",
            " [[  75   46   20    0]\n",
            " [   1 5977   62    4]\n",
            " [   3  147 2135    3]\n",
            " [   1   40   13  135]]\n",
            "Accuracy: 0.960748095128146\n",
            "+-----------+--------------------+--------------------+--------------------+\n",
            "|   class   |         f1         |     precision      |       recall       |\n",
            "+-----------+--------------------+--------------------+--------------------+\n",
            "| athletics | 0.6787330316742082 |       0.9375       | 0.5319148936170213 |\n",
            "|  cricket  | 0.9755181981393831 | 0.9624798711755234 | 0.9889146260754468 |\n",
            "|  football | 0.9451084550686144 | 0.9573991031390134 | 0.9331293706293706 |\n",
            "|   tennis  | 0.8157099697885196 | 0.9507042253521126 | 0.7142857142857143 |\n",
            "+-----------+--------------------+--------------------+--------------------+\n",
            "\n",
            "Results for Decision Tree Classifier : \n",
            "confusion_matrix:\n",
            " [[  92   24   15   10]\n",
            " [  27 5832  151   34]\n",
            " [  14  218 2042   14]\n",
            " [   5   29    6  149]]\n",
            "Accuracy: 0.9368506118679288\n",
            "+-----------+--------------------+--------------------+--------------------+\n",
            "|   class   |         f1         |     precision      |       recall       |\n",
            "+-----------+--------------------+--------------------+--------------------+\n",
            "| athletics | 0.6594982078853048 | 0.6666666666666666 | 0.6524822695035462 |\n",
            "|  cricket  | 0.9602370955791554 | 0.9555956087170244 | 0.9649238914626076 |\n",
            "|  football | 0.9071523767214572 | 0.9223125564588979 | 0.8924825174825175 |\n",
            "|   tennis  | 0.7525252525252525 | 0.7198067632850241 | 0.7883597883597884 |\n",
            "+-----------+--------------------+--------------------+--------------------+\n",
            "\n",
            "Results for MultinomialNB model : \n",
            "confusion_matrix:\n",
            " [[  75   29   37    0]\n",
            " [   1 5949   89    5]\n",
            " [   2  106 2177    3]\n",
            " [   0   18   21  150]]\n",
            "Accuracy: 0.964096051720157\n",
            "+-----------+--------------------+--------------------+--------------------+\n",
            "|   class   |         f1         |     precision      |       recall       |\n",
            "+-----------+--------------------+--------------------+--------------------+\n",
            "| athletics | 0.684931506849315  | 0.9615384615384616 | 0.5319148936170213 |\n",
            "|  cricket  | 0.9795817553103903 | 0.9749262536873157 | 0.9842819324950364 |\n",
            "|  football | 0.9440589765828274 | 0.9367469879518072 | 0.951486013986014  |\n",
            "|   tennis  | 0.8645533141210374 | 0.9493670886075949 | 0.7936507936507936 |\n",
            "+-----------+--------------------+--------------------+--------------------+\n",
            "\n",
            "Results for Random Forest Classifier : \n",
            "confusion_matrix:\n",
            " [[ 101   29   10    1]\n",
            " [   5 5935   86   18]\n",
            " [   8  161 2111    8]\n",
            " [   0   20    6  163]]\n",
            "Accuracy: 0.9593627337797276\n",
            "+-----------+--------------------+--------------------+--------------------+\n",
            "|   class   |         f1         |     precision      |       recall       |\n",
            "+-----------+--------------------+--------------------+--------------------+\n",
            "| athletics | 0.7921568627450982 | 0.8859649122807017 | 0.7163120567375887 |\n",
            "|  cricket  | 0.9738288620887686 | 0.9658258746948739 | 0.9819655857048313 |\n",
            "|  football | 0.9380137747167296 | 0.9539087211929508 | 0.9226398601398601 |\n",
            "|   tennis  | 0.8601583113456464 | 0.8578947368421053 | 0.8624338624338624 |\n",
            "+-----------+--------------------+--------------------+--------------------+\n",
            "\n",
            "Results for KNN model: \n",
            "confusion_matrix:\n",
            " [[  19  106   16    0]\n",
            " [   4 5306  732    2]\n",
            " [   0 1903  383    2]\n",
            " [   0  157   27    5]]\n",
            "Accuracy: 0.6595474486261833\n",
            "+-----------+---------------------+---------------------+----------------------+\n",
            "|   class   |          f1         |      precision      |        recall        |\n",
            "+-----------+---------------------+---------------------+----------------------+\n",
            "| athletics | 0.23170731707317072 |  0.8260869565217391 |  0.1347517730496454  |\n",
            "|  cricket  |  0.7851435335898194 |  0.7101177730192719 |  0.8778954334877564  |\n",
            "|  football | 0.22228670922809055 | 0.33074265975820377 |  0.1673951048951049  |\n",
            "|   tennis  |  0.0505050505050505 |  0.5555555555555556 | 0.026455026455026454 |\n",
            "+-----------+---------------------+---------------------+----------------------+\n"
          ],
          "name": "stdout"
        }
      ]
    },
    {
      "cell_type": "code",
      "metadata": {
        "colab": {
          "base_uri": "https://localhost:8080/",
          "height": 752
        },
        "id": "mKT3sKBPLahP",
        "outputId": "8decf55a-e285-474f-eea0-45854d3aae14"
      },
      "source": [
        "name = \"Bigram\"\r\n",
        "show_result(f1_dict, name)"
      ],
      "execution_count": null,
      "outputs": [
        {
          "output_type": "stream",
          "text": [
            "F1 Scores uning Bigram Feature:\n",
            "\n"
          ],
          "name": "stdout"
        },
        {
          "output_type": "display_data",
          "data": {
            "text/html": [
              "<div>\n",
              "<style scoped>\n",
              "    .dataframe tbody tr th:only-of-type {\n",
              "        vertical-align: middle;\n",
              "    }\n",
              "\n",
              "    .dataframe tbody tr th {\n",
              "        vertical-align: top;\n",
              "    }\n",
              "\n",
              "    .dataframe thead th {\n",
              "        text-align: right;\n",
              "    }\n",
              "</style>\n",
              "<table border=\"1\" class=\"dataframe\">\n",
              "  <thead>\n",
              "    <tr style=\"text-align: right;\">\n",
              "      <th></th>\n",
              "      <th>F1 Score of Athletics(%)</th>\n",
              "      <th>F1 Score of Cricket(%)</th>\n",
              "      <th>F1 Score of Football(%)</th>\n",
              "      <th>F1 Score of Tennis(%)</th>\n",
              "    </tr>\n",
              "  </thead>\n",
              "  <tbody>\n",
              "    <tr>\n",
              "      <th>SVC</th>\n",
              "      <td>75.806452</td>\n",
              "      <td>97.738076</td>\n",
              "      <td>94.461675</td>\n",
              "      <td>88.333333</td>\n",
              "    </tr>\n",
              "    <tr>\n",
              "      <th>Logistic_Regression</th>\n",
              "      <td>67.873303</td>\n",
              "      <td>97.551820</td>\n",
              "      <td>94.510846</td>\n",
              "      <td>81.570997</td>\n",
              "    </tr>\n",
              "    <tr>\n",
              "      <th>Decision_Tree</th>\n",
              "      <td>65.949821</td>\n",
              "      <td>96.023710</td>\n",
              "      <td>90.715238</td>\n",
              "      <td>75.252525</td>\n",
              "    </tr>\n",
              "    <tr>\n",
              "      <th>MultinomialNB</th>\n",
              "      <td>68.493151</td>\n",
              "      <td>97.958176</td>\n",
              "      <td>94.405898</td>\n",
              "      <td>86.455331</td>\n",
              "    </tr>\n",
              "    <tr>\n",
              "      <th>Random_Forest</th>\n",
              "      <td>79.215686</td>\n",
              "      <td>97.382886</td>\n",
              "      <td>93.801377</td>\n",
              "      <td>86.015831</td>\n",
              "    </tr>\n",
              "    <tr>\n",
              "      <th>KNN</th>\n",
              "      <td>23.170732</td>\n",
              "      <td>78.514353</td>\n",
              "      <td>22.228671</td>\n",
              "      <td>5.050505</td>\n",
              "    </tr>\n",
              "  </tbody>\n",
              "</table>\n",
              "</div>"
            ],
            "text/plain": [
              "                     F1 Score of Athletics(%)  ...  F1 Score of Tennis(%)\n",
              "SVC                                 75.806452  ...              88.333333\n",
              "Logistic_Regression                 67.873303  ...              81.570997\n",
              "Decision_Tree                       65.949821  ...              75.252525\n",
              "MultinomialNB                       68.493151  ...              86.455331\n",
              "Random_Forest                       79.215686  ...              86.015831\n",
              "KNN                                 23.170732  ...               5.050505\n",
              "\n",
              "[6 rows x 4 columns]"
            ]
          },
          "metadata": {
            "tags": []
          }
        },
        {
          "output_type": "display_data",
          "data": {
            "image/png": "[encoded data removed]",
            "text/plain": [
              "<Figure size 864x576 with 1 Axes>"
            ]
          },
          "metadata": {
            "tags": [],
            "needs_background": "light"
          }
        }
      ]
    },
    {
      "cell_type": "markdown",
      "metadata": {
        "id": "Jsi-dESN61DV"
      },
      "source": [
        "#Models using Bigram & Trigram"
      ]
    },
    {
      "cell_type": "code",
      "metadata": {
        "colab": {
          "base_uri": "https://localhost:8080/"
        },
        "id": "q1WpN-Eo7cZw",
        "outputId": "458e7d8b-812a-4249-a035-7e464c38cb48"
      },
      "source": [
        "from sklearn.model_selection import train_test_split\n",
        "X_train, X_test, y_train, y_test = train_test_split(X_bi_tri, target, test_size=0.20, random_state=1000)\n",
        "\n",
        "get_models(X_train, X_test, y_train, y_test)"
      ],
      "execution_count": null,
      "outputs": [
        {
          "output_type": "stream",
          "text": [
            "Results for SVC model : \n",
            "confusion_matrix:\n",
            " [[  94   31   15    1]\n",
            " [   3 5962   73    6]\n",
            " [   7  141 2136    4]\n",
            " [   1   24    7  157]]\n",
            "Accuracy: 0.9638651581620873\n",
            "+-----------+--------------------+--------------------+--------------------+\n",
            "|   class   |         f1         |     precision      |       recall       |\n",
            "+-----------+--------------------+--------------------+--------------------+\n",
            "| athletics | 0.7642276422764227 | 0.8952380952380953 | 0.6666666666666666 |\n",
            "|  cricket  | 0.977216849696771  | 0.9681714842481325 | 0.986432825943084  |\n",
            "|  football | 0.945341889798628  | 0.9574181981174361 | 0.9335664335664335 |\n",
            "|   tennis  | 0.8795518207282913 | 0.9345238095238095 | 0.8306878306878307 |\n",
            "+-----------+--------------------+--------------------+--------------------+\n",
            "\n",
            "Results for Logistic Regression model : \n",
            "confusion_matrix:\n",
            " [[  75   47   19    0]\n",
            " [   1 5976   63    4]\n",
            " [   3  146 2136    3]\n",
            " [   1   38   15  135]]\n",
            "Accuracy: 0.960748095128146\n",
            "+-----------+--------------------+--------------------+--------------------+\n",
            "|   class   |         f1         |     precision      |       recall       |\n",
            "+-----------+--------------------+--------------------+--------------------+\n",
            "| athletics | 0.6787330316742082 |       0.9375       | 0.5319148936170213 |\n",
            "|  cricket  | 0.9755938290751776 | 0.9627839536007733 | 0.9887491727332892 |\n",
            "|  football | 0.944923689449237  | 0.9565606806986118 | 0.9335664335664335 |\n",
            "|   tennis  | 0.8157099697885196 | 0.9507042253521126 | 0.7142857142857143 |\n",
            "+-----------+--------------------+--------------------+--------------------+\n",
            "\n",
            "Results for Decision Tree Classifier : \n",
            "confusion_matrix:\n",
            " [[  92   24   16    9]\n",
            " [  21 5837  149   37]\n",
            " [  11  216 2049   12]\n",
            " [   3   29   10  147]]\n",
            "Accuracy: 0.9380050796582775\n",
            "+-----------+--------------------+--------------------+--------------------+\n",
            "|   class   |         f1         |     precision      |       recall       |\n",
            "+-----------+--------------------+--------------------+--------------------+\n",
            "| athletics | 0.6865671641791046 | 0.7244094488188977 | 0.6524822695035462 |\n",
            "|  cricket  | 0.9608230452674896 | 0.9559449721585326 | 0.9657511581733951 |\n",
            "|  football | 0.9082446808510638 | 0.9213129496402878 | 0.895541958041958  |\n",
            "|   tennis  | 0.7461928934010152 | 0.7170731707317073 | 0.7777777777777778 |\n",
            "+-----------+--------------------+--------------------+--------------------+\n",
            "\n",
            "Results for MultinomialNB model : \n",
            "confusion_matrix:\n",
            " [[  71   28   42    0]\n",
            " [   1 5945   93    5]\n",
            " [   2   98 2185    3]\n",
            " [   0   21   25  143]]\n",
            "Accuracy: 0.9632879242669129\n",
            "+-----------+--------------------+--------------------+--------------------+\n",
            "|   class   |         f1         |     precision      |       recall       |\n",
            "+-----------+--------------------+--------------------+--------------------+\n",
            "| athletics | 0.6604651162790698 | 0.9594594594594594 | 0.5035460992907801 |\n",
            "|  cricket  | 0.9797297297297298 | 0.9758699934340118 | 0.9836201191264063 |\n",
            "|  football | 0.943233326138571  | 0.9317697228144989 | 0.9549825174825175 |\n",
            "|   tennis  | 0.8411764705882354 | 0.9470198675496688 | 0.7566137566137566 |\n",
            "+-----------+--------------------+--------------------+--------------------+\n",
            "\n",
            "Results for Random Forest Classifier : \n",
            "confusion_matrix:\n",
            " [[ 102   26   11    2]\n",
            " [   4 5941   82   17]\n",
            " [   8  167 2106    7]\n",
            " [   0   19    7  163]]\n",
            "Accuracy: 0.9595936273377973\n",
            "+-----------+--------------------+--------------------+--------------------+\n",
            "|   class   |         f1         |     precision      |       recall       |\n",
            "+-----------+--------------------+--------------------+--------------------+\n",
            "| athletics |        0.8         | 0.8947368421052632 | 0.723404255319149  |\n",
            "|  cricket  |  0.97417397720751  | 0.9655452624735901 | 0.9829583057577763 |\n",
            "|  football | 0.9372496662216289 | 0.9546690843155031 | 0.9204545454545454 |\n",
            "|   tennis  | 0.8624338624338624 | 0.8624338624338624 | 0.8624338624338624 |\n",
            "+-----------+--------------------+--------------------+--------------------+\n",
            "\n",
            "Results for KNN model: \n",
            "confusion_matrix:\n",
            " [[  19  107   15    0]\n",
            " [   3 5305  734    2]\n",
            " [   1 1896  391    0]\n",
            " [   0  150   33    6]]\n",
            "Accuracy: 0.6604710228584623\n",
            "+-----------+---------------------+--------------------+----------------------+\n",
            "|   class   |          f1         |     precision      |        recall        |\n",
            "+-----------+---------------------+--------------------+----------------------+\n",
            "| athletics | 0.23170731707317072 | 0.8260869565217391 |  0.1347517730496454  |\n",
            "|  cricket  |  0.7858095097022664 | 0.7113167068919282 |  0.8777299801455989  |\n",
            "|  football | 0.22594625830684772 | 0.3333333333333333 | 0.17089160839160839  |\n",
            "|   tennis  | 0.06091370558375634 |        0.75        | 0.031746031746031744 |\n",
            "+-----------+---------------------+--------------------+----------------------+\n"
          ],
          "name": "stdout"
        }
      ]
    },
    {
      "cell_type": "code",
      "metadata": {
        "colab": {
          "base_uri": "https://localhost:8080/",
          "height": 752
        },
        "id": "gNc9Dnj9SjB2",
        "outputId": "6b21d978-28c3-4991-aee8-10791464f0b0"
      },
      "source": [
        "name = \"Bigram-Trigram\"\r\n",
        "show_result(f1_dict,name)"
      ],
      "execution_count": null,
      "outputs": [
        {
          "output_type": "stream",
          "text": [
            "F1 Scores uning Bigram-Trigram Feature:\n",
            "\n"
          ],
          "name": "stdout"
        },
        {
          "output_type": "display_data",
          "data": {
            "text/html": [
              "<div>\n",
              "<style scoped>\n",
              "    .dataframe tbody tr th:only-of-type {\n",
              "        vertical-align: middle;\n",
              "    }\n",
              "\n",
              "    .dataframe tbody tr th {\n",
              "        vertical-align: top;\n",
              "    }\n",
              "\n",
              "    .dataframe thead th {\n",
              "        text-align: right;\n",
              "    }\n",
              "</style>\n",
              "<table border=\"1\" class=\"dataframe\">\n",
              "  <thead>\n",
              "    <tr style=\"text-align: right;\">\n",
              "      <th></th>\n",
              "      <th>F1 Score of Athletics(%)</th>\n",
              "      <th>F1 Score of Cricket(%)</th>\n",
              "      <th>F1 Score of Football(%)</th>\n",
              "      <th>F1 Score of Tennis(%)</th>\n",
              "    </tr>\n",
              "  </thead>\n",
              "  <tbody>\n",
              "    <tr>\n",
              "      <th>SVC</th>\n",
              "      <td>76.422764</td>\n",
              "      <td>97.721685</td>\n",
              "      <td>94.534189</td>\n",
              "      <td>87.955182</td>\n",
              "    </tr>\n",
              "    <tr>\n",
              "      <th>Logistic_Regression</th>\n",
              "      <td>67.873303</td>\n",
              "      <td>97.559383</td>\n",
              "      <td>94.492369</td>\n",
              "      <td>81.570997</td>\n",
              "    </tr>\n",
              "    <tr>\n",
              "      <th>Decision_Tree</th>\n",
              "      <td>68.656716</td>\n",
              "      <td>96.082305</td>\n",
              "      <td>90.824468</td>\n",
              "      <td>74.619289</td>\n",
              "    </tr>\n",
              "    <tr>\n",
              "      <th>MultinomialNB</th>\n",
              "      <td>66.046512</td>\n",
              "      <td>97.972973</td>\n",
              "      <td>94.323333</td>\n",
              "      <td>84.117647</td>\n",
              "    </tr>\n",
              "    <tr>\n",
              "      <th>Random_Forest</th>\n",
              "      <td>80.000000</td>\n",
              "      <td>97.417398</td>\n",
              "      <td>93.724967</td>\n",
              "      <td>86.243386</td>\n",
              "    </tr>\n",
              "    <tr>\n",
              "      <th>KNN</th>\n",
              "      <td>23.170732</td>\n",
              "      <td>78.580951</td>\n",
              "      <td>22.594626</td>\n",
              "      <td>6.091371</td>\n",
              "    </tr>\n",
              "  </tbody>\n",
              "</table>\n",
              "</div>"
            ],
            "text/plain": [
              "                     F1 Score of Athletics(%)  ...  F1 Score of Tennis(%)\n",
              "SVC                                 76.422764  ...              87.955182\n",
              "Logistic_Regression                 67.873303  ...              81.570997\n",
              "Decision_Tree                       68.656716  ...              74.619289\n",
              "MultinomialNB                       66.046512  ...              84.117647\n",
              "Random_Forest                       80.000000  ...              86.243386\n",
              "KNN                                 23.170732  ...               6.091371\n",
              "\n",
              "[6 rows x 4 columns]"
            ]
          },
          "metadata": {
            "tags": []
          }
        },
        {
          "output_type": "display_data",
          "data": {
            "image/png": "[encoded data removed]",
            "text/plain": [
              "<Figure size 864x576 with 1 Axes>"
            ]
          },
          "metadata": {
            "tags": [],
            "needs_background": "light"
          }
        }
      ]
    },
    {
      "cell_type": "markdown",
      "metadata": {
        "id": "VuR6P43L79MT"
      },
      "source": [
        "# Models using Trigram"
      ]
    },
    {
      "cell_type": "code",
      "metadata": {
        "id": "MVeIYYNb8Edz",
        "colab": {
          "base_uri": "https://localhost:8080/"
        },
        "outputId": "61320033-d8a9-40c4-cd55-85d1eac9d61e"
      },
      "source": [
        "from sklearn.model_selection import train_test_split\n",
        "X_train, X_test, y_train, y_test = train_test_split(X_tri, target, test_size=0.20, random_state=1000)\n",
        "\n",
        "get_models(X_train, X_test, y_train, y_test)"
      ],
      "execution_count": null,
      "outputs": [
        {
          "output_type": "stream",
          "text": [
            "Results for SVC model : \n",
            "confusion_matrix:\n",
            " [[  20  108   13    0]\n",
            " [   1 5930  110    3]\n",
            " [   2  483 1797    6]\n",
            " [   1  119   20   49]]\n",
            "Accuracy: 0.900023089355807\n",
            "+-----------+---------------------+--------------------+---------------------+\n",
            "|   class   |          f1         |     precision      |        recall       |\n",
            "+-----------+---------------------+--------------------+---------------------+\n",
            "| athletics | 0.24242424242424246 | 0.8333333333333334 | 0.14184397163120568 |\n",
            "|  cricket  |  0.935036266162094  | 0.8930722891566265 |  0.9811383189940437 |\n",
            "|  football |  0.8500473036896878 | 0.9262886597938145 |  0.7854020979020979 |\n",
            "|   tennis  | 0.39676113360323884 | 0.8448275862068966 | 0.25925925925925924 |\n",
            "+-----------+---------------------+--------------------+---------------------+\n",
            "\n",
            "Results for Logistic Regression model : \n",
            "confusion_matrix:\n",
            " [[  21  108   12    0]\n",
            " [   0 5939  100    5]\n",
            " [   0  463 1819    6]\n",
            " [   1  109   25   54]]\n",
            "Accuracy: 0.904294620180097\n",
            "+-----------+---------------------+--------------------+---------------------+\n",
            "|   class   |          f1         |     precision      |        recall       |\n",
            "+-----------+---------------------+--------------------+---------------------+\n",
            "| athletics |  0.2576687116564417 | 0.9545454545454546 | 0.14893617021276595 |\n",
            "|  cricket  |  0.9380083708441918 | 0.897265447952863  |  0.9826273990734613 |\n",
            "|  football |  0.857210179076343  | 0.929959100204499  |  0.7950174825174825 |\n",
            "|   tennis  | 0.42519685039370075 | 0.8307692307692308 |  0.2857142857142857 |\n",
            "+-----------+---------------------+--------------------+---------------------+\n",
            "\n",
            "Results for Decision Tree Classifier : \n",
            "confusion_matrix:\n",
            " [[  31   99   11    0]\n",
            " [  14 5783  227   20]\n",
            " [  11  527 1736   14]\n",
            " [   5  101   19   64]]\n",
            "Accuracy: 0.8790117755714616\n",
            "+-----------+--------------------+--------------------+--------------------+\n",
            "|   class   |         f1         |     precision      |       recall       |\n",
            "+-----------+--------------------+--------------------+--------------------+\n",
            "| athletics | 0.3069306930693069 | 0.5081967213114754 | 0.2198581560283688 |\n",
            "|  cricket  | 0.9212999840688227 | 0.8883256528417819 | 0.9568166776968895 |\n",
            "|  football | 0.8110254613408082 | 0.8710486703462117 | 0.7587412587412588 |\n",
            "|   tennis  | 0.445993031358885  | 0.6530612244897959 | 0.3386243386243386 |\n",
            "+-----------+--------------------+--------------------+--------------------+\n",
            "\n",
            "Results for MultinomialNB model : \n",
            "confusion_matrix:\n",
            " [[  10  108   23    0]\n",
            " [   0 5923  118    3]\n",
            " [   0  437 1848    3]\n",
            " [   0  114   29   46]]\n",
            "Accuracy: 0.9036019395058877\n",
            "+-----------+---------------------+--------------------+---------------------+\n",
            "|   class   |          f1         |     precision      |        recall       |\n",
            "+-----------+---------------------+--------------------+---------------------+\n",
            "| athletics | 0.13245033112582782 |        1.0         | 0.07092198581560284 |\n",
            "|  cricket  |  0.9382227150324726 | 0.8998784563962321 |  0.9799801455989411 |\n",
            "|  football |  0.8583372039015328 | 0.9157581764122894 |  0.8076923076923077 |\n",
            "|   tennis  | 0.38174273858921165 | 0.8846153846153846 | 0.24338624338624337 |\n",
            "+-----------+---------------------+--------------------+---------------------+\n",
            "\n",
            "Results for Random Forest Classifier : \n",
            "confusion_matrix:\n",
            " [[  26  100   15    0]\n",
            " [   8 5832  188   16]\n",
            " [   6  457 1812   13]\n",
            " [   5   98   23   63]]\n",
            "Accuracy: 0.8927499422766105\n",
            "+-----------+---------------------+--------------------+---------------------+\n",
            "|   class   |          f1         |     precision      |        recall       |\n",
            "+-----------+---------------------+--------------------+---------------------+\n",
            "| athletics | 0.27956989247311825 | 0.5777777777777777 | 0.18439716312056736 |\n",
            "|  cricket  |  0.9308115872635863 | 0.8990288268845383 |  0.9649238914626076 |\n",
            "|  football |  0.8377253814147018 | 0.8891069676153092 |  0.791958041958042  |\n",
            "|   tennis  |  0.4483985765124555 | 0.6847826086956522 |  0.3333333333333333 |\n",
            "+-----------+---------------------+--------------------+---------------------+\n",
            "\n",
            "Results for KNN model: \n",
            "confusion_matrix:\n",
            " [[  29   23   89    0]\n",
            " [ 134 4396 1455   59]\n",
            " [  45  458 1764   21]\n",
            " [   9   18  100   62]]\n",
            "Accuracy: 0.7216578157469407\n",
            "+-----------+---------------------+---------------------+---------------------+\n",
            "|   class   |          f1         |      precision      |        recall       |\n",
            "+-----------+---------------------+---------------------+---------------------+\n",
            "| athletics | 0.16201117318435754 |  0.1336405529953917 | 0.20567375886524822 |\n",
            "|  cricket  |  0.803729774202395  |  0.8980592441266598 |  0.7273328921244209 |\n",
            "|  football |  0.6193820224719101 |  0.5176056338028169 |  0.7709790209790209 |\n",
            "|   tennis  | 0.37462235649546827 | 0.43661971830985913 |  0.328042328042328  |\n",
            "+-----------+---------------------+---------------------+---------------------+\n"
          ],
          "name": "stdout"
        }
      ]
    },
    {
      "cell_type": "code",
      "metadata": {
        "id": "pimoaBNzS8jE",
        "colab": {
          "base_uri": "https://localhost:8080/",
          "height": 752
        },
        "outputId": "f486d9f6-a9c8-4c8b-d753-16bd4a8e8efc"
      },
      "source": [
        "name = \"Trigram\"\r\n",
        "show_result(f1_dict,name)"
      ],
      "execution_count": null,
      "outputs": [
        {
          "output_type": "stream",
          "text": [
            "F1 Scores uning Trigram Feature:\n",
            "\n"
          ],
          "name": "stdout"
        },
        {
          "output_type": "display_data",
          "data": {
            "text/html": [
              "<div>\n",
              "<style scoped>\n",
              "    .dataframe tbody tr th:only-of-type {\n",
              "        vertical-align: middle;\n",
              "    }\n",
              "\n",
              "    .dataframe tbody tr th {\n",
              "        vertical-align: top;\n",
              "    }\n",
              "\n",
              "    .dataframe thead th {\n",
              "        text-align: right;\n",
              "    }\n",
              "</style>\n",
              "<table border=\"1\" class=\"dataframe\">\n",
              "  <thead>\n",
              "    <tr style=\"text-align: right;\">\n",
              "      <th></th>\n",
              "      <th>F1 Score of Athletics(%)</th>\n",
              "      <th>F1 Score of Cricket(%)</th>\n",
              "      <th>F1 Score of Football(%)</th>\n",
              "      <th>F1 Score of Tennis(%)</th>\n",
              "    </tr>\n",
              "  </thead>\n",
              "  <tbody>\n",
              "    <tr>\n",
              "      <th>SVC</th>\n",
              "      <td>24.242424</td>\n",
              "      <td>93.503627</td>\n",
              "      <td>85.004730</td>\n",
              "      <td>39.676113</td>\n",
              "    </tr>\n",
              "    <tr>\n",
              "      <th>Logistic_Regression</th>\n",
              "      <td>25.766871</td>\n",
              "      <td>93.800837</td>\n",
              "      <td>85.721018</td>\n",
              "      <td>42.519685</td>\n",
              "    </tr>\n",
              "    <tr>\n",
              "      <th>Decision_Tree</th>\n",
              "      <td>30.693069</td>\n",
              "      <td>92.129998</td>\n",
              "      <td>81.102546</td>\n",
              "      <td>44.599303</td>\n",
              "    </tr>\n",
              "    <tr>\n",
              "      <th>MultinomialNB</th>\n",
              "      <td>13.245033</td>\n",
              "      <td>93.822272</td>\n",
              "      <td>85.833720</td>\n",
              "      <td>38.174274</td>\n",
              "    </tr>\n",
              "    <tr>\n",
              "      <th>Random_Forest</th>\n",
              "      <td>27.956989</td>\n",
              "      <td>93.081159</td>\n",
              "      <td>83.772538</td>\n",
              "      <td>44.839858</td>\n",
              "    </tr>\n",
              "    <tr>\n",
              "      <th>KNN</th>\n",
              "      <td>16.201117</td>\n",
              "      <td>80.372977</td>\n",
              "      <td>61.938202</td>\n",
              "      <td>37.462236</td>\n",
              "    </tr>\n",
              "  </tbody>\n",
              "</table>\n",
              "</div>"
            ],
            "text/plain": [
              "                     F1 Score of Athletics(%)  ...  F1 Score of Tennis(%)\n",
              "SVC                                 24.242424  ...              39.676113\n",
              "Logistic_Regression                 25.766871  ...              42.519685\n",
              "Decision_Tree                       30.693069  ...              44.599303\n",
              "MultinomialNB                       13.245033  ...              38.174274\n",
              "Random_Forest                       27.956989  ...              44.839858\n",
              "KNN                                 16.201117  ...              37.462236\n",
              "\n",
              "[6 rows x 4 columns]"
            ]
          },
          "metadata": {
            "tags": []
          }
        },
        {
          "output_type": "display_data",
          "data": {
            "image/png": "[encoded data removed]",
            "text/plain": [
              "<Figure size 864x576 with 1 Axes>"
            ]
          },
          "metadata": {
            "tags": [],
            "needs_background": "light"
          }
        }
      ]
    }
  ]
}